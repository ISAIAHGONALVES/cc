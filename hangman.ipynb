{
  "nbformat": 4,
  "nbformat_minor": 0,
  "metadata": {
    "colab": {
      "provenance": [],
      "authorship_tag": "ABX9TyPOLlhAu53jQ+YYglX7Lqfb",
      "include_colab_link": true
    },
    "kernelspec": {
      "name": "python3",
      "display_name": "Python 3"
    },
    "language_info": {
      "name": "python"
    }
  },
  "cells": [
    {
      "cell_type": "markdown",
      "metadata": {
        "id": "view-in-github",
        "colab_type": "text"
      },
      "source": [
        "<a href=\"https://colab.research.google.com/github/ISAIAHGONALVES/cc/blob/main/hangman.ipynb\" target=\"_parent\"><img src=\"https://colab.research.google.com/assets/colab-badge.svg\" alt=\"Open In Colab\"/></a>"
      ]
    },
    {
      "cell_type": "code",
      "execution_count": 1,
      "metadata": {
        "colab": {
          "base_uri": "https://localhost:8080/"
        },
        "id": "EY7FqP0dijOu",
        "outputId": "c2503b30-07d1-48e2-e5e6-ec20260a886f"
      },
      "outputs": [
        {
          "output_type": "stream",
          "name": "stdout",
          "text": [
            "Welcome to Hangman!\n",
            "______\n",
            "Guess a letter: a\n",
            "Incorrect guess. You have 5 attempts left.\n",
            "______\n",
            "Guess a letter: c\n",
            "Correct guess!\n",
            "c_____\n",
            "Guess a letter: h\n",
            "Correct guess!\n",
            "ch____\n",
            "Guess a letter: r\n",
            "Correct guess!\n",
            "ch_rr_\n",
            "Guess a letter: y\n",
            "Correct guess!\n",
            "ch_rry\n",
            "Guess a letter: e\n",
            "Congratulations! You've guessed the word: cherry\n"
          ]
        }
      ],
      "source": [
        "import random\n",
        "\n",
        "def choose_word():\n",
        "    word_list = [\"apple\", \"banana\", \"cherry\", \"date\", \"elderberry\", \"fig\", \"grape\"]\n",
        "    return random.choice(word_list)\n",
        "\n",
        "def display_word(word, guessed_letters):\n",
        "    display = ''\n",
        "    for letter in word:\n",
        "        if letter in guessed_letters:\n",
        "            display += letter\n",
        "        else:\n",
        "            display += '_'\n",
        "    return display\n",
        "\n",
        "def hangman():\n",
        "    word = choose_word()\n",
        "    guessed_letters = []\n",
        "    attempts = 6\n",
        "\n",
        "    print(\"Welcome to Hangman!\")\n",
        "    while attempts > 0:\n",
        "        print(display_word(word, guessed_letters))\n",
        "        guess = input(\"Guess a letter: \").lower()\n",
        "\n",
        "        if len(guess) != 1 or not guess.isalpha():\n",
        "            print(\"Please enter a valid letter.\")\n",
        "            continue\n",
        "\n",
        "        if guess in guessed_letters:\n",
        "            print(\"You've already guessed that letter.\")\n",
        "            continue\n",
        "\n",
        "        guessed_letters.append(guess)\n",
        "\n",
        "        if guess in word:\n",
        "            if display_word(word, guessed_letters) == word:\n",
        "                print(f\"Congratulations! You've guessed the word: {word}\")\n",
        "                break\n",
        "            print(\"Correct guess!\")\n",
        "        else:\n",
        "            attempts -= 1\n",
        "            print(f\"Incorrect guess. You have {attempts} attempts left.\")\n",
        "\n",
        "    if attempts == 0:\n",
        "        print(f\"Sorry, you've run out of attempts. The word was {word}.\")\n",
        "\n",
        "hangman()"
      ]
    }
  ]
}